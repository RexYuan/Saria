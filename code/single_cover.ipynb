{
 "cells": [
  {
   "cell_type": "markdown",
   "metadata": {},
   "source": [
    "For a set of linear posets $\\Upsilon$, define $\\mathcal{P}$ such that $\\leq_{\\mathcal{P}} = \\bigcap_{\\mathcal{L} \\in \\Upsilon} \\leq_{\\mathcal{L}}$. $L(\\mathcal{P}) = \\Upsilon$ if and only if for all $\\mathcal{L} \\!\\in\\! \\Upsilon$ where $x \\prec_{\\mathcal{L}} y$ and $x \\parallel_{\\mathcal{P}} y$, $\\mathcal{L}[x,y] \\!\\in\\! \\Upsilon$."
   ]
  },
  {
   "cell_type": "code",
   "execution_count": 1,
   "metadata": {},
   "outputs": [
    {
     "data": {
      "text/plain": [
       "{('2', '3')}"
      ]
     },
     "execution_count": 1,
     "metadata": {},
     "output_type": "execute_result"
    }
   ],
   "source": [
    "def make_relation(s):\n",
    "    relation = []\n",
    "    for i in range(len(s)):\n",
    "        for j in range(i+1, len(s)):\n",
    "            relation.append((s[i], s[j]))\n",
    "    return set(relation)\n",
    "r0 = make_relation('123')\n",
    "r1 = make_relation('213')\n",
    "r2 = make_relation('231')\n",
    "r0&r1&r2\n",
    "r0&r2"
   ]
  },
  {
   "cell_type": "code",
   "execution_count": 6,
   "metadata": {},
   "outputs": [],
   "source": [
    "from functools import reduce\n",
    "def check_single_poset(lins):\n",
    "    intersection = reduce(lambda x, y: x & y, map(make_relation, lins))\n",
    "    for lin in lins:\n",
    "        for i in range(len(lin)-1):\n",
    "            if (lin[i], lin[i+1]) not in intersection:\n",
    "                if lin[:i]+lin[i+1]+lin[i]+lin[i+2:] not in lins:\n",
    "                    return False\n",
    "    return True\n",
    "assert check_single_poset(['123', '213', '231']) == True\n",
    "assert check_single_poset(['123', '231']) == False"
   ]
  }
 ],
 "metadata": {
  "kernelspec": {
   "display_name": "poset",
   "language": "python",
   "name": "python3"
  },
  "language_info": {
   "codemirror_mode": {
    "name": "ipython",
    "version": 3
   },
   "file_extension": ".py",
   "mimetype": "text/x-python",
   "name": "python",
   "nbconvert_exporter": "python",
   "pygments_lexer": "ipython3",
   "version": "3.13.1"
  }
 },
 "nbformat": 4,
 "nbformat_minor": 2
}
