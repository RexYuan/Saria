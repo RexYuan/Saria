{
 "cells": [
  {
   "cell_type": "code",
   "execution_count": 1,
   "metadata": {},
   "outputs": [],
   "source": [
    "from poset_cover import poset_cover, logger\n",
    "import logging"
   ]
  },
  {
   "cell_type": "code",
   "execution_count": 2,
   "metadata": {},
   "outputs": [],
   "source": [
    "logger.setLevel(logging.INFO)\n",
    "status_sh = logging.StreamHandler()\n",
    "status_sh.setLevel(logging.DEBUG)\n",
    "status_formatter = logging.Formatter('[%(levelname)s] %(asctime)s : %(name)s : %(message)s')\n",
    "status_sh.setFormatter(status_formatter)\n",
    "logger.addHandler(status_sh)"
   ]
  },
  {
   "cell_type": "code",
   "execution_count": 5,
   "metadata": {},
   "outputs": [
    {
     "data": {
      "text/plain": [
       "{('2', '3')}"
      ]
     },
     "execution_count": 5,
     "metadata": {},
     "output_type": "execute_result"
    }
   ],
   "source": [
    "def make_relation(s):\n",
    "    relation = []\n",
    "    for i in range(len(s)):\n",
    "        for j in range(i+1, len(s)):\n",
    "            relation.append((s[i], s[j]))\n",
    "    return set(relation)\n",
    "r0 = make_relation('123')\n",
    "r1 = make_relation('213')\n",
    "r2 = make_relation('231')\n",
    "r0&r1&r2\n",
    "r0&r2"
   ]
  },
  {
   "cell_type": "code",
   "execution_count": 4,
   "metadata": {},
   "outputs": [
    {
     "data": {
      "text/plain": [
       "{('3', '1'), ('3', '4')}"
      ]
     },
     "execution_count": 4,
     "metadata": {},
     "output_type": "execute_result"
    }
   ],
   "source": [
    "from itertools import permutations\n",
    "from functools import reduce\n",
    "# lins = list(map(lambda p:''.join(p), permutations({'1', '2', '3', '4', '5', '6', '7', '8'})))[:80]\n",
    "lins = list(map(lambda p:''.join(p), permutations({'1', '2', '3', '4', '5'})))[:31]\n",
    "reduce(lambda r1,r2:r1&r2, map(make_relation, lins))"
   ]
  },
  {
   "cell_type": "code",
   "execution_count": 5,
   "metadata": {},
   "outputs": [
    {
     "name": "stderr",
     "output_type": "stream",
     "text": [
      "[INFO] 2024-12-19 17:11:57,381 : poset_cover : Input: |S| = 5 ; |Y| = 40\n",
      "[INFO] 2024-12-19 17:11:57,688 : poset_cover : rendered ./graphs/swap_graph.pdf\n",
      "[INFO] 2024-12-19 17:11:57,689 : poset_cover : Solving connected component: |S| = 5 ; |Y| = 40\n",
      "[INFO] 2024-12-19 17:11:57,846 : poset_cover : 1 failed :(\n",
      "[INFO] 2024-12-19 17:11:58,135 : poset_cover : 2 failed :(\n",
      "[INFO] 2024-12-19 17:11:58,582 : poset_cover : 3 failed :(\n",
      "[INFO] 2024-12-19 17:11:59,150 : poset_cover : 4 failed :(\n",
      "[INFO] 2024-12-19 17:11:59,867 : poset_cover : 5 failed :(\n",
      "[INFO] 2024-12-19 17:12:00,769 : poset_cover : 6 failed :(\n",
      "[INFO] 2024-12-19 17:12:01,891 : poset_cover : 7 failed :(\n",
      "[INFO] 2024-12-19 17:12:03,986 : poset_cover : 8 failed :(\n",
      "[INFO] 2024-12-19 17:12:14,541 : poset_cover : 9 failed :(\n",
      "[INFO] 2024-12-19 17:12:41,580 : poset_cover : 10 failed :(\n",
      "[INFO] 2024-12-19 17:15:54,947 : poset_cover : 11 failed :(\n",
      "[INFO] 2024-12-19 17:22:25,736 : poset_cover : 12 failed :(\n"
     ]
    }
   ],
   "source": [
    "# lins = ['123','132']\n",
    "lins = list({'abecd', 'dcaeb', 'cedba', 'cabde', 'caebd', 'baced', 'dacbe', 'cebad', 'cdabe', 'badce', 'acebd', 'bcaed', 'acbde', 'acbed', 'aecbd', 'aecdb', 'daecb', 'acdeb', 'cdaeb', 'decab', 'ecdab', 'adceb', 'abced', 'ceadb', 'daceb', 'adecb', 'deabc', 'dbace', 'ecbad', 'caedb', 'acdbe', 'abcde', 'ceabd', 'acedb', 'eacdb', 'bacde', 'cedab', 'edcab', 'deacb', 'bdace'})\n",
    "poset_cover(lins, render=True)"
   ]
  }
 ],
 "metadata": {
  "kernelspec": {
   "display_name": "poset",
   "language": "python",
   "name": "python3"
  },
  "language_info": {
   "codemirror_mode": {
    "name": "ipython",
    "version": 3
   },
   "file_extension": ".py",
   "mimetype": "text/x-python",
   "name": "python",
   "nbconvert_exporter": "python",
   "pygments_lexer": "ipython3",
   "version": "3.13.1"
  }
 },
 "nbformat": 4,
 "nbformat_minor": 2
}
