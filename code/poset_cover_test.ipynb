{
 "cells": [
  {
   "cell_type": "code",
   "execution_count": 2,
   "metadata": {},
   "outputs": [],
   "source": [
    "from poset_cover import poset_cover, logger\n",
    "import logging"
   ]
  },
  {
   "cell_type": "code",
   "execution_count": 3,
   "metadata": {},
   "outputs": [],
   "source": [
    "logger.setLevel(logging.INFO)\n",
    "status_sh = logging.StreamHandler()\n",
    "status_sh.setLevel(logging.DEBUG)\n",
    "status_formatter = logging.Formatter('[%(levelname)s] %(asctime)s : %(name)s : %(message)s')\n",
    "status_sh.setFormatter(status_formatter)\n",
    "logger.addHandler(status_sh)"
   ]
  },
  {
   "cell_type": "code",
   "execution_count": 4,
   "metadata": {},
   "outputs": [
    {
     "data": {
      "text/plain": [
       "{('1', '2'),\n",
       " ('1', '3'),\n",
       " ('1', '4'),\n",
       " ('1', '5'),\n",
       " ('2', '3'),\n",
       " ('2', '4'),\n",
       " ('2', '5'),\n",
       " ('3', '4'),\n",
       " ('3', '5')}"
      ]
     },
     "execution_count": 4,
     "metadata": {},
     "output_type": "execute_result"
    }
   ],
   "source": [
    "def make_relation(s):\n",
    "    relation = []\n",
    "    for i in range(len(s)):\n",
    "        for j in range(i+1, len(s)):\n",
    "            relation.append((s[i], s[j]))\n",
    "    return set(relation)\n",
    "r1 = make_relation('12345')\n",
    "r2 = make_relation('12354')\n",
    "r1&r2"
   ]
  },
  {
   "cell_type": "code",
   "execution_count": 5,
   "metadata": {},
   "outputs": [
    {
     "data": {
      "text/plain": [
       "{('3', '2'), ('3', '5')}"
      ]
     },
     "execution_count": 5,
     "metadata": {},
     "output_type": "execute_result"
    }
   ],
   "source": [
    "from itertools import permutations\n",
    "from functools import reduce\n",
    "# lins = list(map(lambda p:''.join(p), permutations({'1', '2', '3', '4', '5', '6', '7', '8'})))[:80]\n",
    "lins = list(map(lambda p:''.join(p), permutations({'1', '2', '3', '4', '5'})))[:31]\n",
    "reduce(lambda r1,r2:r1&r2, map(make_relation, lins))"
   ]
  },
  {
   "cell_type": "code",
   "execution_count": 6,
   "metadata": {},
   "outputs": [
    {
     "name": "stderr",
     "output_type": "stream",
     "text": [
      "[INFO] 2024-12-19 16:46:09,849 : poset_cover : Input: |S| = 5 ; |Y| = 31\n",
      "[INFO] 2024-12-19 16:46:10,266 : poset_cover : rendered ./graphs/swap_graph.pdf\n",
      "[INFO] 2024-12-19 16:46:10,267 : poset_cover : Solving connected component: |S| = 5 ; |Y| = 31\n",
      "[INFO] 2024-12-19 16:46:10,441 : poset_cover : 1 failed :(\n",
      "[INFO] 2024-12-19 16:46:10,777 : poset_cover : 2 works!\n",
      "[INFO] 2024-12-19 16:46:10,782 : poset_cover : Component done. Time = 0.514\n",
      "[INFO] 2024-12-19 16:46:11,109 : poset_cover : rendered ./graphs/comp_1_cover_1.pdf\n",
      "[INFO] 2024-12-19 16:46:11,110 : poset_cover : All done! Total time = 1.2602\n"
     ]
    },
    {
     "data": {
      "text/plain": [
       "{frozenset({('2', '5'), ('3', '2'), ('3', '5'), ('4', '1')}),\n",
       " frozenset({('3', '1'), ('3', '2'), ('3', '5')})}"
      ]
     },
     "execution_count": 6,
     "metadata": {},
     "output_type": "execute_result"
    }
   ],
   "source": [
    "# lins = ['123','132']\n",
    "# lins = list({'abecd', 'dcaeb', 'cedba', 'cabde', 'caebd', 'baced', 'dacbe', 'cebad', 'cdabe', 'badce', 'acebd', 'bcaed', 'acbde', 'acbed', 'aecbd', 'aecdb', 'daecb', 'acdeb', 'cdaeb', 'decab', 'ecdab', 'adceb', 'abced', 'ceadb', 'daceb', 'adecb', 'deabc', 'dbace', 'ecbad', 'caedb', 'acdbe', 'abcde', 'ceabd', 'acedb', 'eacdb', 'bacde', 'cedab', 'edcab', 'deacb', 'bdace'})\n",
    "poset_cover(lins, render=True)"
   ]
  }
 ],
 "metadata": {
  "kernelspec": {
   "display_name": "poset",
   "language": "python",
   "name": "python3"
  },
  "language_info": {
   "codemirror_mode": {
    "name": "ipython",
    "version": 3
   },
   "file_extension": ".py",
   "mimetype": "text/x-python",
   "name": "python",
   "nbconvert_exporter": "python",
   "pygments_lexer": "ipython3",
   "version": "3.13.1"
  }
 },
 "nbformat": 4,
 "nbformat_minor": 2
}
