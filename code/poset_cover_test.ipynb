{
 "cells": [
  {
   "cell_type": "code",
   "execution_count": 1,
   "metadata": {},
   "outputs": [],
   "source": [
    "from poset_cover import poset_cover, logger\n",
    "import logging"
   ]
  },
  {
   "cell_type": "code",
   "execution_count": 2,
   "metadata": {},
   "outputs": [],
   "source": [
    "logger.setLevel(logging.INFO)\n",
    "status_sh = logging.StreamHandler()\n",
    "status_sh.setLevel(logging.DEBUG)\n",
    "status_formatter = logging.Formatter('[%(levelname)s] %(asctime)s : %(name)s : %(message)s')\n",
    "status_sh.setFormatter(status_formatter)\n",
    "logger.addHandler(status_sh)"
   ]
  },
  {
   "cell_type": "code",
   "execution_count": 5,
   "metadata": {},
   "outputs": [
    {
     "data": {
      "text/plain": [
       "{('2', '3')}"
      ]
     },
     "execution_count": 5,
     "metadata": {},
     "output_type": "execute_result"
    }
   ],
   "source": [
    "def make_relation(s):\n",
    "    relation = []\n",
    "    for i in range(len(s)):\n",
    "        for j in range(i+1, len(s)):\n",
    "            relation.append((s[i], s[j]))\n",
    "    return set(relation)\n",
    "r0 = make_relation('123')\n",
    "r1 = make_relation('213')\n",
    "r2 = make_relation('231')\n",
    "r0&r1&r2\n",
    "r0&r2"
   ]
  },
  {
   "cell_type": "code",
   "execution_count": null,
   "metadata": {},
   "outputs": [
    {
     "data": {
      "text/plain": [
       "{('3', '2'), ('3', '5')}"
      ]
     },
     "execution_count": 4,
     "metadata": {},
     "output_type": "execute_result"
    }
   ],
   "source": [
    "from itertools import permutations\n",
    "from functools import reduce\n",
    "# lins = list(map(lambda p:''.join(p), permutations({'1', '2', '3', '4', '5', '6', '7', '8'})))[:80]\n",
    "lins = list(map(lambda p:''.join(p), permutations({'1', '2', '3', '4', '5'})))[:31]\n",
    "reduce(lambda r1,r2:r1&r2, map(make_relation, lins))"
   ]
  },
  {
   "cell_type": "code",
   "execution_count": 5,
   "metadata": {},
   "outputs": [
    {
     "name": "stderr",
     "output_type": "stream",
     "text": [
      "[INFO] 2024-12-19 21:22:55,650 : poset_cover : Input: |S| = 5 ; |Y| = 40\n",
      "[INFO] 2024-12-19 21:22:55,711 : poset_cover : rendered ./graphs/swap_graph.pdf\n",
      "[INFO] 2024-12-19 21:22:55,711 : poset_cover : Solving connected component: |S| = 5 ; |Y| = 40\n",
      "[INFO] 2024-12-19 21:22:55,813 : poset_cover : 1 failed :(\n",
      "[INFO] 2024-12-19 21:22:55,958 : poset_cover : 2 failed :(\n",
      "[INFO] 2024-12-19 21:22:56,170 : poset_cover : 3 failed :(\n",
      "[INFO] 2024-12-19 21:22:56,443 : poset_cover : 4 failed :(\n",
      "[INFO] 2024-12-19 21:22:56,773 : poset_cover : 5 failed :(\n",
      "[INFO] 2024-12-19 21:22:57,178 : poset_cover : 6 failed :(\n",
      "[INFO] 2024-12-19 21:22:57,663 : poset_cover : 7 failed :(\n",
      "[INFO] 2024-12-19 21:22:58,811 : poset_cover : 8 failed :(\n",
      "[INFO] 2024-12-19 21:23:04,986 : poset_cover : 9 failed :(\n",
      "[INFO] 2024-12-19 21:23:25,292 : poset_cover : 10 failed :(\n",
      "[INFO] 2024-12-19 21:26:53,654 : poset_cover : 11 failed :(\n",
      "[INFO] 2024-12-19 21:54:30,032 : poset_cover : 12 failed :(\n",
      "[INFO] 2024-12-20 05:34:25,348 : poset_cover : 13 failed :(\n",
      "[INFO] 2024-12-20 05:34:26,258 : poset_cover : 14 works!\n",
      "[INFO] 2024-12-20 05:34:26,265 : poset_cover : Component done. Time = 29490.5528\n",
      "[INFO] 2024-12-20 05:34:26,276 : poset_cover : rendered ./graphs/comp_1_cover_1.pdf\n",
      "[INFO] 2024-12-20 05:34:26,277 : poset_cover : All done! Total time = 29490.6259\n"
     ]
    },
    {
     "data": {
      "text/plain": [
       "{frozenset({('a', 'd'),\n",
       "            ('a', 'e'),\n",
       "            ('b', 'c'),\n",
       "            ('b', 'd'),\n",
       "            ('b', 'e'),\n",
       "            ('c', 'd'),\n",
       "            ('c', 'e'),\n",
       "            ('e', 'd')}),\n",
       " frozenset({('a', 'b'),\n",
       "            ('c', 'a'),\n",
       "            ('c', 'b'),\n",
       "            ('d', 'a'),\n",
       "            ('d', 'b'),\n",
       "            ('e', 'a'),\n",
       "            ('e', 'b'),\n",
       "            ('e', 'c')}),\n",
       " frozenset({('b', 'a'),\n",
       "            ('c', 'a'),\n",
       "            ('c', 'b'),\n",
       "            ('c', 'd'),\n",
       "            ('c', 'e'),\n",
       "            ('d', 'a'),\n",
       "            ('d', 'b'),\n",
       "            ('e', 'a'),\n",
       "            ('e', 'b'),\n",
       "            ('e', 'd')}),\n",
       " frozenset({('a', 'b'),\n",
       "            ('a', 'c'),\n",
       "            ('a', 'd'),\n",
       "            ('c', 'b'),\n",
       "            ('c', 'd'),\n",
       "            ('d', 'b')}),\n",
       " frozenset({('a', 'c'),\n",
       "            ('a', 'e'),\n",
       "            ('b', 'a'),\n",
       "            ('b', 'c'),\n",
       "            ('b', 'e'),\n",
       "            ('c', 'e')}),\n",
       " frozenset({('a', 'b'),\n",
       "            ('a', 'd'),\n",
       "            ('a', 'e'),\n",
       "            ('c', 'b'),\n",
       "            ('c', 'd'),\n",
       "            ('e', 'b'),\n",
       "            ('e', 'd')}),\n",
       " frozenset({('a', 'b'),\n",
       "            ('a', 'c'),\n",
       "            ('d', 'a'),\n",
       "            ('d', 'b'),\n",
       "            ('d', 'c'),\n",
       "            ('d', 'e'),\n",
       "            ('e', 'a'),\n",
       "            ('e', 'b'),\n",
       "            ('e', 'c')}),\n",
       " frozenset({('a', 'b'),\n",
       "            ('a', 'c'),\n",
       "            ('a', 'd'),\n",
       "            ('a', 'e'),\n",
       "            ('b', 'e'),\n",
       "            ('c', 'd')}),\n",
       " frozenset({('a', 'b'),\n",
       "            ('a', 'e'),\n",
       "            ('c', 'a'),\n",
       "            ('c', 'b'),\n",
       "            ('c', 'd'),\n",
       "            ('c', 'e'),\n",
       "            ('d', 'a'),\n",
       "            ('d', 'b'),\n",
       "            ('d', 'e')}),\n",
       " frozenset({('a', 'b'),\n",
       "            ('a', 'd'),\n",
       "            ('a', 'e'),\n",
       "            ('b', 'd'),\n",
       "            ('b', 'e'),\n",
       "            ('c', 'd'),\n",
       "            ('c', 'e'),\n",
       "            ('d', 'e')}),\n",
       " frozenset({('a', 'b'),\n",
       "            ('c', 'a'),\n",
       "            ('c', 'b'),\n",
       "            ('c', 'd'),\n",
       "            ('c', 'e'),\n",
       "            ('e', 'b'),\n",
       "            ('e', 'd')}),\n",
       " frozenset({('a', 'b'),\n",
       "            ('a', 'c'),\n",
       "            ('c', 'b'),\n",
       "            ('d', 'a'),\n",
       "            ('d', 'b'),\n",
       "            ('d', 'c'),\n",
       "            ('d', 'e')}),\n",
       " frozenset({('a', 'b'),\n",
       "            ('a', 'e'),\n",
       "            ('c', 'b'),\n",
       "            ('d', 'b'),\n",
       "            ('d', 'c'),\n",
       "            ('d', 'e'),\n",
       "            ('e', 'b')}),\n",
       " frozenset({('a', 'd'),\n",
       "            ('b', 'a'),\n",
       "            ('b', 'd'),\n",
       "            ('c', 'a'),\n",
       "            ('c', 'b'),\n",
       "            ('c', 'd'),\n",
       "            ('e', 'a'),\n",
       "            ('e', 'b'),\n",
       "            ('e', 'd')})}"
      ]
     },
     "execution_count": 5,
     "metadata": {},
     "output_type": "execute_result"
    }
   ],
   "source": [
    "# lins = ['123','132']\n",
    "lins = list({'abecd', 'dcaeb', 'cedba', 'cabde', 'caebd', 'baced', 'dacbe', 'cebad', 'cdabe', 'badce', 'acebd', 'bcaed', 'acbde', 'acbed', 'aecbd', 'aecdb', 'daecb', 'acdeb', 'cdaeb', 'decab', 'ecdab', 'adceb', 'abced', 'ceadb', 'daceb', 'adecb', 'deabc', 'dbace', 'ecbad', 'caedb', 'acdbe', 'abcde', 'ceabd', 'acedb', 'eacdb', 'bacde', 'cedab', 'edcab', 'deacb', 'bdace'})\n",
    "poset_cover(lins, render=True)"
   ]
  }
 ],
 "metadata": {
  "kernelspec": {
   "display_name": "poset",
   "language": "python",
   "name": "python3"
  },
  "language_info": {
   "codemirror_mode": {
    "name": "ipython",
    "version": 3
   },
   "file_extension": ".py",
   "mimetype": "text/x-python",
   "name": "python",
   "nbconvert_exporter": "python",
   "pygments_lexer": "ipython3",
   "version": "3.13.1"
  }
 },
 "nbformat": 4,
 "nbformat_minor": 2
}
